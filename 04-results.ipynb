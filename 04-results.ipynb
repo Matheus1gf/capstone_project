{
 "cells": [
  {
   "cell_type": "code",
   "execution_count": 8,
   "id": "b9679c58",
   "metadata": {},
   "outputs": [],
   "source": [
    "from python_files.import_libs import *\n",
    "from python_files.predict import *\n",
    "%matplotlib inline"
   ]
  },
  {
   "cell_type": "code",
   "execution_count": 9,
   "id": "04086593",
   "metadata": {},
   "outputs": [
    {
     "data": {
      "text/html": [
       "<div>\n",
       "<style scoped>\n",
       "    .dataframe tbody tr th:only-of-type {\n",
       "        vertical-align: middle;\n",
       "    }\n",
       "\n",
       "    .dataframe tbody tr th {\n",
       "        vertical-align: top;\n",
       "    }\n",
       "\n",
       "    .dataframe thead th {\n",
       "        text-align: right;\n",
       "    }\n",
       "</style>\n",
       "<table border=\"1\" class=\"dataframe\">\n",
       "  <thead>\n",
       "    <tr style=\"text-align: right;\">\n",
       "      <th></th>\n",
       "      <th>index</th>\n",
       "      <th>RMSE</th>\n",
       "      <th>MAE</th>\n",
       "      <th>R2</th>\n",
       "    </tr>\n",
       "  </thead>\n",
       "  <tbody>\n",
       "    <tr>\n",
       "      <th>0</th>\n",
       "      <td>LinearRegression</td>\n",
       "      <td>187032.410047</td>\n",
       "      <td>138391.250000</td>\n",
       "      <td>0.581622</td>\n",
       "    </tr>\n",
       "    <tr>\n",
       "      <th>1</th>\n",
       "      <td>RandomForest</td>\n",
       "      <td>186173.131784</td>\n",
       "      <td>130940.083333</td>\n",
       "      <td>0.585457</td>\n",
       "    </tr>\n",
       "    <tr>\n",
       "      <th>2</th>\n",
       "      <td>XGBoost</td>\n",
       "      <td>184133.838070</td>\n",
       "      <td>132256.750000</td>\n",
       "      <td>0.594489</td>\n",
       "    </tr>\n",
       "    <tr>\n",
       "      <th>3</th>\n",
       "      <td>ARIMA</td>\n",
       "      <td>14305.679248</td>\n",
       "      <td>10401.782102</td>\n",
       "      <td>0.984970</td>\n",
       "    </tr>\n",
       "  </tbody>\n",
       "</table>\n",
       "</div>"
      ],
      "text/plain": [
       "              index           RMSE            MAE        R2\n",
       "0  LinearRegression  187032.410047  138391.250000  0.581622\n",
       "1      RandomForest  186173.131784  130940.083333  0.585457\n",
       "2           XGBoost  184133.838070  132256.750000  0.594489\n",
       "3             ARIMA   14305.679248   10401.782102  0.984970"
      ]
     },
     "execution_count": 9,
     "metadata": {},
     "output_type": "execute_result"
    }
   ],
   "source": [
    "results_dict = pickle.load(open(\"model_scores.p\", \"rb\"))\n",
    "results_dict.update(pickle.load(open(\"arima_model_scores.p\", \"rb\")))\n",
    "restults_df = pd.DataFrame.from_dict(results_dict, orient='index', columns=['RMSE', 'MAE','R2'])\n",
    "restults_df = restults_df.sort_values(by='RMSE', ascending=False).reset_index()\n",
    "    \n",
    "results = restults_df\n",
    "results"
   ]
  },
  {
   "cell_type": "code",
   "execution_count": 10,
   "id": "7f3c5e34",
   "metadata": {},
   "outputs": [
    {
     "name": "stderr",
     "output_type": "stream",
     "text": [
      "C:\\Users\\mathe\\anaconda3\\lib\\site-packages\\seaborn\\_decorators.py:36: FutureWarning: Pass the following variables as keyword args: x, y. From version 0.12, the only valid positional argument will be `data`, and passing other arguments without an explicit keyword will result in an error or misinterpretation.\n",
      "  warnings.warn(\n",
      "C:\\Users\\mathe\\anaconda3\\lib\\site-packages\\seaborn\\_decorators.py:36: FutureWarning: Pass the following variables as keyword args: x, y. From version 0.12, the only valid positional argument will be `data`, and passing other arguments without an explicit keyword will result in an error or misinterpretation.\n",
      "  warnings.warn(\n"
     ]
    },
    {
     "data": {
      "image/png": "[encoded data removed]",
      "text/plain": [
       "<Figure size 864x360 with 1 Axes>"
      ]
     },
     "metadata": {
      "needs_background": "light"
     },
     "output_type": "display_data"
    }
   ],
   "source": [
    "# Plot results\n",
    "fig, ax = plt.subplots(figsize=(12, 5))\n",
    "sns.lineplot(np.arange(len(results)), 'RMSE', data=results, ax=ax, label='RMSE', color='mediumblue')\n",
    "sns.lineplot(np.arange(len(results)), 'MAE', data=results, ax=ax, label='MAE', color='Cyan')\n",
    "    \n",
    "plt.xticks(np.arange(len(results)),rotation=45)\n",
    "ax.set_xticklabels(results['index'])\n",
    "ax.set(xlabel = \"Model\",\n",
    "       ylabel = \"Scores\",\n",
    "       title = \"Model Error Comparison\")\n",
    "sns.despine()\n",
    "    \n",
    "plt.savefig(f'model_output/compare_models.png')"
   ]
  },
  {
   "cell_type": "code",
   "execution_count": 11,
   "id": "6ad76c70",
   "metadata": {},
   "outputs": [
    {
     "name": "stdout",
     "output_type": "stream",
     "text": [
      "With XGBoost, prediction is within 1.3% of the actual.\n"
     ]
    }
   ],
   "source": [
    "average_monthly_sales = 894478 #see eda notebook\n",
    "gboost = 11649.666667\n",
    "percentage_off = round(gboost/average_monthly_sales*100, 2)\n",
    "\n",
    "print(f\"With XGBoost, prediction is within {percentage_off}% of the actual.\")"
   ]
  },
  {
   "cell_type": "code",
   "execution_count": null,
   "id": "6e3df367",
   "metadata": {},
   "outputs": [],
   "source": []
  }
 ],
 "metadata": {
  "kernelspec": {
   "display_name": "Python 3",
   "language": "python",
   "name": "python3"
  },
  "language_info": {
   "codemirror_mode": {
    "name": "ipython",
    "version": 3
   },
   "file_extension": ".py",
   "mimetype": "text/x-python",
   "name": "python",
   "nbconvert_exporter": "python",
   "pygments_lexer": "ipython3",
   "version": "3.8.8"
  }
 },
 "nbformat": 4,
 "nbformat_minor": 5
}
