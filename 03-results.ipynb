{
 "cells": [
  {
   "cell_type": "code",
   "execution_count": 1,
   "id": "b9679c58",
   "metadata": {},
   "outputs": [],
   "source": [
    "from python_files.import_libs import *\n",
    "from python_files.predict import *\n",
    "%matplotlib inline"
   ]
  },
  {
   "cell_type": "code",
   "execution_count": 2,
   "id": "04086593",
   "metadata": {},
   "outputs": [
    {
     "data": {
      "text/html": [
       "<div>\n",
       "<style scoped>\n",
       "    .dataframe tbody tr th:only-of-type {\n",
       "        vertical-align: middle;\n",
       "    }\n",
       "\n",
       "    .dataframe tbody tr th {\n",
       "        vertical-align: top;\n",
       "    }\n",
       "\n",
       "    .dataframe thead th {\n",
       "        text-align: right;\n",
       "    }\n",
       "</style>\n",
       "<table border=\"1\" class=\"dataframe\">\n",
       "  <thead>\n",
       "    <tr style=\"text-align: right;\">\n",
       "      <th></th>\n",
       "      <th>index</th>\n",
       "      <th>RMSE</th>\n",
       "      <th>MAE</th>\n",
       "      <th>R2</th>\n",
       "    </tr>\n",
       "  </thead>\n",
       "  <tbody>\n",
       "    <tr>\n",
       "      <th>0</th>\n",
       "      <td>LinearRegression</td>\n",
       "      <td>26127.621967</td>\n",
       "      <td>16922.333333</td>\n",
       "      <td>-11.146057</td>\n",
       "    </tr>\n",
       "    <tr>\n",
       "      <th>1</th>\n",
       "      <td>XGBoost</td>\n",
       "      <td>22592.270511</td>\n",
       "      <td>14691.666667</td>\n",
       "      <td>-8.081452</td>\n",
       "    </tr>\n",
       "    <tr>\n",
       "      <th>2</th>\n",
       "      <td>LSTM</td>\n",
       "      <td>20074.209887</td>\n",
       "      <td>14380.583333</td>\n",
       "      <td>-6.169889</td>\n",
       "    </tr>\n",
       "    <tr>\n",
       "      <th>3</th>\n",
       "      <td>RandomForest</td>\n",
       "      <td>16255.080037</td>\n",
       "      <td>11439.666667</td>\n",
       "      <td>-3.701254</td>\n",
       "    </tr>\n",
       "    <tr>\n",
       "      <th>4</th>\n",
       "      <td>ARIMA</td>\n",
       "      <td>14305.679248</td>\n",
       "      <td>10401.782102</td>\n",
       "      <td>0.984970</td>\n",
       "    </tr>\n",
       "  </tbody>\n",
       "</table>\n",
       "</div>"
      ],
      "text/plain": [
       "              index          RMSE           MAE         R2\n",
       "0  LinearRegression  26127.621967  16922.333333 -11.146057\n",
       "1           XGBoost  22592.270511  14691.666667  -8.081452\n",
       "2              LSTM  20074.209887  14380.583333  -6.169889\n",
       "3      RandomForest  16255.080037  11439.666667  -3.701254\n",
       "4             ARIMA  14305.679248  10401.782102   0.984970"
      ]
     },
     "execution_count": 2,
     "metadata": {},
     "output_type": "execute_result"
    }
   ],
   "source": [
    "# Lendo a representação da conversa do objeto model_scores\n",
    "res = pickle.load(open(\"model_scores.p\", \"rb\"))\n",
    "# Atualizando 'res' com a representação da conversa do objeto arima_model_scores\n",
    "res.update(pickle.load(open(\"arima_model_scores.p\", \"rb\")))\n",
    "res_df = pd.DataFrame.from_dict(res, orient='index', columns=['RMSE', 'MAE','R2'])\n",
    "res_df = res_df.sort_values(by='RMSE', ascending=False).reset_index()\n",
    "    \n",
    "results = res_df\n",
    "results"
   ]
  },
  {
   "cell_type": "code",
   "execution_count": 3,
   "id": "7f3c5e34",
   "metadata": {},
   "outputs": [
    {
     "name": "stderr",
     "output_type": "stream",
     "text": [
      "C:\\Users\\mathe\\anaconda3\\lib\\site-packages\\seaborn\\_decorators.py:36: FutureWarning: Pass the following variables as keyword args: x, y. From version 0.12, the only valid positional argument will be `data`, and passing other arguments without an explicit keyword will result in an error or misinterpretation.\n",
      "  warnings.warn(\n",
      "C:\\Users\\mathe\\anaconda3\\lib\\site-packages\\seaborn\\_decorators.py:36: FutureWarning: Pass the following variables as keyword args: x, y. From version 0.12, the only valid positional argument will be `data`, and passing other arguments without an explicit keyword will result in an error or misinterpretation.\n",
      "  warnings.warn(\n",
      "C:\\Users\\mathe\\anaconda3\\lib\\site-packages\\seaborn\\_decorators.py:36: FutureWarning: Pass the following variables as keyword args: x, y. From version 0.12, the only valid positional argument will be `data`, and passing other arguments without an explicit keyword will result in an error or misinterpretation.\n",
      "  warnings.warn(\n"
     ]
    },
    {
     "data": {
      "image/png": "[encoded data removed]",
      "text/plain": [
       "<Figure size 864x360 with 1 Axes>"
      ]
     },
     "metadata": {
      "needs_background": "light"
     },
     "output_type": "display_data"
    }
   ],
   "source": [
    "# Plot results\n",
    "fig, ax = plt.subplots(figsize=(12, 5))\n",
    "sns.lineplot(np.arange(len(results)), 'RMSE', data=results, ax=ax, label='RMSE', color='red')\n",
    "sns.lineplot(np.arange(len(results)), 'MAE', data=results, ax=ax, label='MAE', color='green')\n",
    "sns.lineplot(np.arange(len(results)), 'R2', data=results, ax=ax, label='R2', color='blue')\n",
    "    \n",
    "plt.xticks(np.arange(len(results)),rotation=45)\n",
    "ax.set_xticklabels(results['index'])\n",
    "ax.set(xlabel = \"Model\",\n",
    "       ylabel = \"Scores\",\n",
    "       title = \"Model Error Comparison\")\n",
    "sns.despine()\n",
    "    \n",
    "plt.savefig(f'model_output/compare_models.png')"
   ]
  }
 ],
 "metadata": {
  "kernelspec": {
   "display_name": "Python 3",
   "language": "python",
   "name": "python3"
  },
  "language_info": {
   "codemirror_mode": {
    "name": "ipython",
    "version": 3
   },
   "file_extension": ".py",
   "mimetype": "text/x-python",
   "name": "python",
   "nbconvert_exporter": "python",
   "pygments_lexer": "ipython3",
   "version": "3.8.8"
  }
 },
 "nbformat": 4,
 "nbformat_minor": 5
}
